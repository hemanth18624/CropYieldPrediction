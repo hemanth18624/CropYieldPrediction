{
 "cells": [
  {
   "cell_type": "code",
   "execution_count": 2,
   "id": "13314f87-a176-4cc5-a471-75e336516a8c",
   "metadata": {},
   "outputs": [],
   "source": [
    "import pandas as pd\n",
    "import numpy as np\n",
    "import matplotlib.pyplot as plt\n",
    "import seaborn as sns"
   ]
  },
  {
   "cell_type": "code",
   "execution_count": 73,
   "id": "38f41997-a642-4fad-b2a1-bfd0571c2524",
   "metadata": {},
   "outputs": [
    {
     "data": {
      "text/html": [
       "<div>\n",
       "<style scoped>\n",
       "    .dataframe tbody tr th:only-of-type {\n",
       "        vertical-align: middle;\n",
       "    }\n",
       "\n",
       "    .dataframe tbody tr th {\n",
       "        vertical-align: top;\n",
       "    }\n",
       "\n",
       "    .dataframe thead th {\n",
       "        text-align: right;\n",
       "    }\n",
       "</style>\n",
       "<table border=\"1\" class=\"dataframe\">\n",
       "  <thead>\n",
       "    <tr style=\"text-align: right;\">\n",
       "      <th></th>\n",
       "      <th>Soil_Type</th>\n",
       "      <th>Crop</th>\n",
       "      <th>Rainfall_mm</th>\n",
       "      <th>Temperature_Celsius</th>\n",
       "      <th>Fertiliser_Quantity</th>\n",
       "      <th>Pesticide_Quantity</th>\n",
       "      <th>Yield_tons_per_acre</th>\n",
       "    </tr>\n",
       "  </thead>\n",
       "  <tbody>\n",
       "    <tr>\n",
       "      <th>0</th>\n",
       "      <td>Clay</td>\n",
       "      <td>Wheat</td>\n",
       "      <td>225.117079</td>\n",
       "      <td>19.191553</td>\n",
       "      <td>59488.380629</td>\n",
       "      <td>811.673690</td>\n",
       "      <td>1.728929</td>\n",
       "    </tr>\n",
       "    <tr>\n",
       "      <th>1</th>\n",
       "      <td>Sandy Loam</td>\n",
       "      <td>Wheat</td>\n",
       "      <td>315.951046</td>\n",
       "      <td>24.513009</td>\n",
       "      <td>95981.507082</td>\n",
       "      <td>574.246763</td>\n",
       "      <td>2.142011</td>\n",
       "    </tr>\n",
       "    <tr>\n",
       "      <th>2</th>\n",
       "      <td>Sandy Loam</td>\n",
       "      <td>Rice</td>\n",
       "      <td>444.892536</td>\n",
       "      <td>32.136555</td>\n",
       "      <td>89884.767017</td>\n",
       "      <td>657.781659</td>\n",
       "      <td>2.581379</td>\n",
       "    </tr>\n",
       "    <tr>\n",
       "      <th>3</th>\n",
       "      <td>Clay</td>\n",
       "      <td>Wheat</td>\n",
       "      <td>492.812499</td>\n",
       "      <td>19.984464</td>\n",
       "      <td>73514.309720</td>\n",
       "      <td>338.288175</td>\n",
       "      <td>1.515758</td>\n",
       "    </tr>\n",
       "    <tr>\n",
       "      <th>4</th>\n",
       "      <td>Chalky</td>\n",
       "      <td>Rice</td>\n",
       "      <td>426.559034</td>\n",
       "      <td>34.057319</td>\n",
       "      <td>107404.150948</td>\n",
       "      <td>406.520062</td>\n",
       "      <td>2.798321</td>\n",
       "    </tr>\n",
       "  </tbody>\n",
       "</table>\n",
       "</div>"
      ],
      "text/plain": [
       "    Soil_Type   Crop  Rainfall_mm  Temperature_Celsius  Fertiliser_Quantity  \\\n",
       "0        Clay  Wheat   225.117079            19.191553         59488.380629   \n",
       "1  Sandy Loam  Wheat   315.951046            24.513009         95981.507082   \n",
       "2  Sandy Loam   Rice   444.892536            32.136555         89884.767017   \n",
       "3        Clay  Wheat   492.812499            19.984464         73514.309720   \n",
       "4      Chalky   Rice   426.559034            34.057319        107404.150948   \n",
       "\n",
       "   Pesticide_Quantity  Yield_tons_per_acre  \n",
       "0          811.673690             1.728929  \n",
       "1          574.246763             2.142011  \n",
       "2          657.781659             2.581379  \n",
       "3          338.288175             1.515758  \n",
       "4          406.520062             2.798321  "
      ]
     },
     "execution_count": 73,
     "metadata": {},
     "output_type": "execute_result"
    }
   ],
   "source": [
    "df = pd.read_csv(\"data6717.csv\")\n",
    "df.head()"
   ]
  },
  {
   "cell_type": "markdown",
   "id": "8733ad75-2fa4-41f9-a604-a62b81ade553",
   "metadata": {},
   "source": [
    "# Data Exploration"
   ]
  },
  {
   "cell_type": "code",
   "execution_count": 74,
   "id": "57c3298b-358c-488e-b816-ba3b4ed830fb",
   "metadata": {},
   "outputs": [
    {
     "data": {
      "text/plain": [
       "(49987, 7)"
      ]
     },
     "execution_count": 74,
     "metadata": {},
     "output_type": "execute_result"
    }
   ],
   "source": [
    "df.shape"
   ]
  },
  {
   "cell_type": "markdown",
   "id": "998c413c-6b5a-4558-85b3-645876043767",
   "metadata": {},
   "source": [
    "***The DataSet consists of 49,987 rows and 7 columns***"
   ]
  },
  {
   "cell_type": "code",
   "execution_count": 75,
   "id": "ea70d2df-c630-43d9-9908-8de5df63bd6b",
   "metadata": {},
   "outputs": [
    {
     "name": "stdout",
     "output_type": "stream",
     "text": [
      "<class 'pandas.core.frame.DataFrame'>\n",
      "RangeIndex: 49987 entries, 0 to 49986\n",
      "Data columns (total 7 columns):\n",
      " #   Column               Non-Null Count  Dtype  \n",
      "---  ------               --------------  -----  \n",
      " 0   Soil_Type            49987 non-null  object \n",
      " 1   Crop                 49987 non-null  object \n",
      " 2   Rainfall_mm          49987 non-null  float64\n",
      " 3   Temperature_Celsius  49987 non-null  float64\n",
      " 4   Fertiliser_Quantity  49987 non-null  float64\n",
      " 5   Pesticide_Quantity   49987 non-null  float64\n",
      " 6   Yield_tons_per_acre  49987 non-null  float64\n",
      "dtypes: float64(5), object(2)\n",
      "memory usage: 2.7+ MB\n"
     ]
    }
   ],
   "source": [
    "df.info()"
   ]
  },
  {
   "cell_type": "code",
   "execution_count": 76,
   "id": "5a93f4b7-2794-4012-b0fa-d9e9f55a7bd9",
   "metadata": {},
   "outputs": [
    {
     "data": {
      "text/html": [
       "<div>\n",
       "<style scoped>\n",
       "    .dataframe tbody tr th:only-of-type {\n",
       "        vertical-align: middle;\n",
       "    }\n",
       "\n",
       "    .dataframe tbody tr th {\n",
       "        vertical-align: top;\n",
       "    }\n",
       "\n",
       "    .dataframe thead th {\n",
       "        text-align: right;\n",
       "    }\n",
       "</style>\n",
       "<table border=\"1\" class=\"dataframe\">\n",
       "  <thead>\n",
       "    <tr style=\"text-align: right;\">\n",
       "      <th></th>\n",
       "      <th>Soil_Type</th>\n",
       "      <th>Crop</th>\n",
       "      <th>Rainfall_mm</th>\n",
       "      <th>Temperature_Celsius</th>\n",
       "      <th>Fertiliser_Quantity</th>\n",
       "      <th>Pesticide_Quantity</th>\n",
       "      <th>Yield_tons_per_acre</th>\n",
       "    </tr>\n",
       "  </thead>\n",
       "  <tbody>\n",
       "    <tr>\n",
       "      <th>0</th>\n",
       "      <td>Clay</td>\n",
       "      <td>Wheat</td>\n",
       "      <td>225.117079</td>\n",
       "      <td>19.191553</td>\n",
       "      <td>59488.380629</td>\n",
       "      <td>811.673690</td>\n",
       "      <td>1.728929</td>\n",
       "    </tr>\n",
       "    <tr>\n",
       "      <th>1</th>\n",
       "      <td>Sandy Loam</td>\n",
       "      <td>Wheat</td>\n",
       "      <td>315.951046</td>\n",
       "      <td>24.513009</td>\n",
       "      <td>95981.507082</td>\n",
       "      <td>574.246763</td>\n",
       "      <td>2.142011</td>\n",
       "    </tr>\n",
       "    <tr>\n",
       "      <th>2</th>\n",
       "      <td>Sandy Loam</td>\n",
       "      <td>Rice</td>\n",
       "      <td>444.892536</td>\n",
       "      <td>32.136555</td>\n",
       "      <td>89884.767017</td>\n",
       "      <td>657.781659</td>\n",
       "      <td>2.581379</td>\n",
       "    </tr>\n",
       "    <tr>\n",
       "      <th>3</th>\n",
       "      <td>Clay</td>\n",
       "      <td>Wheat</td>\n",
       "      <td>492.812499</td>\n",
       "      <td>19.984464</td>\n",
       "      <td>73514.309720</td>\n",
       "      <td>338.288175</td>\n",
       "      <td>1.515758</td>\n",
       "    </tr>\n",
       "    <tr>\n",
       "      <th>4</th>\n",
       "      <td>Chalky</td>\n",
       "      <td>Rice</td>\n",
       "      <td>426.559034</td>\n",
       "      <td>34.057319</td>\n",
       "      <td>107404.150948</td>\n",
       "      <td>406.520062</td>\n",
       "      <td>2.798321</td>\n",
       "    </tr>\n",
       "  </tbody>\n",
       "</table>\n",
       "</div>"
      ],
      "text/plain": [
       "    Soil_Type   Crop  Rainfall_mm  Temperature_Celsius  Fertiliser_Quantity  \\\n",
       "0        Clay  Wheat   225.117079            19.191553         59488.380629   \n",
       "1  Sandy Loam  Wheat   315.951046            24.513009         95981.507082   \n",
       "2  Sandy Loam   Rice   444.892536            32.136555         89884.767017   \n",
       "3        Clay  Wheat   492.812499            19.984464         73514.309720   \n",
       "4      Chalky   Rice   426.559034            34.057319        107404.150948   \n",
       "\n",
       "   Pesticide_Quantity  Yield_tons_per_acre  \n",
       "0          811.673690             1.728929  \n",
       "1          574.246763             2.142011  \n",
       "2          657.781659             2.581379  \n",
       "3          338.288175             1.515758  \n",
       "4          406.520062             2.798321  "
      ]
     },
     "execution_count": 76,
     "metadata": {},
     "output_type": "execute_result"
    }
   ],
   "source": [
    "#Displaying the first 5 rows\n",
    "df.head()"
   ]
  },
  {
   "cell_type": "code",
   "execution_count": 77,
   "id": "647f8101-0f69-4c13-9fca-24148d22fd06",
   "metadata": {},
   "outputs": [
    {
     "data": {
      "text/html": [
       "<div>\n",
       "<style scoped>\n",
       "    .dataframe tbody tr th:only-of-type {\n",
       "        vertical-align: middle;\n",
       "    }\n",
       "\n",
       "    .dataframe tbody tr th {\n",
       "        vertical-align: top;\n",
       "    }\n",
       "\n",
       "    .dataframe thead th {\n",
       "        text-align: right;\n",
       "    }\n",
       "</style>\n",
       "<table border=\"1\" class=\"dataframe\">\n",
       "  <thead>\n",
       "    <tr style=\"text-align: right;\">\n",
       "      <th></th>\n",
       "      <th>Soil_Type</th>\n",
       "      <th>Crop</th>\n",
       "      <th>Rainfall_mm</th>\n",
       "      <th>Temperature_Celsius</th>\n",
       "      <th>Fertiliser_Quantity</th>\n",
       "      <th>Pesticide_Quantity</th>\n",
       "      <th>Yield_tons_per_acre</th>\n",
       "    </tr>\n",
       "  </thead>\n",
       "  <tbody>\n",
       "    <tr>\n",
       "      <th>49982</th>\n",
       "      <td>Sandy Loam</td>\n",
       "      <td>Wheat</td>\n",
       "      <td>574.925046</td>\n",
       "      <td>21.642618</td>\n",
       "      <td>59514.356693</td>\n",
       "      <td>862.242195</td>\n",
       "      <td>2.108803</td>\n",
       "    </tr>\n",
       "    <tr>\n",
       "      <th>49983</th>\n",
       "      <td>Silty Clay</td>\n",
       "      <td>Wheat</td>\n",
       "      <td>321.004254</td>\n",
       "      <td>23.192768</td>\n",
       "      <td>57251.215976</td>\n",
       "      <td>828.932093</td>\n",
       "      <td>1.775657</td>\n",
       "    </tr>\n",
       "    <tr>\n",
       "      <th>49984</th>\n",
       "      <td>Clay</td>\n",
       "      <td>Soybean</td>\n",
       "      <td>87.470680</td>\n",
       "      <td>20.305035</td>\n",
       "      <td>57058.378330</td>\n",
       "      <td>443.007472</td>\n",
       "      <td>0.964572</td>\n",
       "    </tr>\n",
       "    <tr>\n",
       "      <th>49985</th>\n",
       "      <td>Loamy Sand</td>\n",
       "      <td>Cotton</td>\n",
       "      <td>81.864114</td>\n",
       "      <td>26.370527</td>\n",
       "      <td>13803.163467</td>\n",
       "      <td>312.390848</td>\n",
       "      <td>-0.073099</td>\n",
       "    </tr>\n",
       "    <tr>\n",
       "      <th>49986</th>\n",
       "      <td>Loamy Sand</td>\n",
       "      <td>Cotton</td>\n",
       "      <td>60.724958</td>\n",
       "      <td>20.954187</td>\n",
       "      <td>-1540.032517</td>\n",
       "      <td>69.100762</td>\n",
       "      <td>-0.354404</td>\n",
       "    </tr>\n",
       "  </tbody>\n",
       "</table>\n",
       "</div>"
      ],
      "text/plain": [
       "        Soil_Type     Crop  Rainfall_mm  Temperature_Celsius  \\\n",
       "49982  Sandy Loam    Wheat   574.925046            21.642618   \n",
       "49983  Silty Clay    Wheat   321.004254            23.192768   \n",
       "49984        Clay  Soybean    87.470680            20.305035   \n",
       "49985  Loamy Sand   Cotton    81.864114            26.370527   \n",
       "49986  Loamy Sand   Cotton    60.724958            20.954187   \n",
       "\n",
       "       Fertiliser_Quantity  Pesticide_Quantity  Yield_tons_per_acre  \n",
       "49982         59514.356693          862.242195             2.108803  \n",
       "49983         57251.215976          828.932093             1.775657  \n",
       "49984         57058.378330          443.007472             0.964572  \n",
       "49985         13803.163467          312.390848            -0.073099  \n",
       "49986         -1540.032517           69.100762            -0.354404  "
      ]
     },
     "execution_count": 77,
     "metadata": {},
     "output_type": "execute_result"
    }
   ],
   "source": [
    "#Displaying the last 5 rows\n",
    "df.tail()"
   ]
  },
  {
   "cell_type": "markdown",
   "id": "b1767be2-0b80-4c08-a8e4-91cb0c91bc50",
   "metadata": {},
   "source": [
    "# Handling Missing Values"
   ]
  },
  {
   "cell_type": "code",
   "execution_count": 78,
   "id": "792974ce-4277-4b5f-854a-e86f86d19dad",
   "metadata": {},
   "outputs": [
    {
     "data": {
      "text/plain": [
       "Soil_Type              0\n",
       "Crop                   0\n",
       "Rainfall_mm            0\n",
       "Temperature_Celsius    0\n",
       "Fertiliser_Quantity    0\n",
       "Pesticide_Quantity     0\n",
       "Yield_tons_per_acre    0\n",
       "dtype: int64"
      ]
     },
     "execution_count": 78,
     "metadata": {},
     "output_type": "execute_result"
    }
   ],
   "source": [
    "df.isna().sum()"
   ]
  },
  {
   "cell_type": "markdown",
   "id": "fd425ab9-fe63-4b5b-b0bf-aec2be996450",
   "metadata": {},
   "source": [
    "***Thankfully there are no missing values in the dataset***"
   ]
  },
  {
   "cell_type": "markdown",
   "id": "54fc0b36-2156-4287-9b5a-eb5407bdc77e",
   "metadata": {},
   "source": [
    "# Handling Duplicates"
   ]
  },
  {
   "cell_type": "code",
   "execution_count": 79,
   "id": "05a824d0-4d3a-469b-973b-d35f6139050f",
   "metadata": {},
   "outputs": [
    {
     "data": {
      "text/plain": [
       "np.int64(0)"
      ]
     },
     "execution_count": 79,
     "metadata": {},
     "output_type": "execute_result"
    }
   ],
   "source": [
    "df.duplicated().sum()"
   ]
  },
  {
   "cell_type": "markdown",
   "id": "cdd88d0a-64cc-4a91-8ef6-b680847f1946",
   "metadata": {},
   "source": [
    "***Thankfully there are also no duplicates in the dataset***"
   ]
  },
  {
   "cell_type": "markdown",
   "id": "66b0cf64-199a-476b-a813-192dcb02f66c",
   "metadata": {},
   "source": [
    "# Data Info"
   ]
  },
  {
   "cell_type": "code",
   "execution_count": 80,
   "id": "eaa643c4-1575-4144-830a-9c7b95ff7b69",
   "metadata": {},
   "outputs": [
    {
     "name": "stdout",
     "output_type": "stream",
     "text": [
      "<class 'pandas.core.frame.DataFrame'>\n",
      "RangeIndex: 49987 entries, 0 to 49986\n",
      "Data columns (total 7 columns):\n",
      " #   Column               Non-Null Count  Dtype  \n",
      "---  ------               --------------  -----  \n",
      " 0   Soil_Type            49987 non-null  object \n",
      " 1   Crop                 49987 non-null  object \n",
      " 2   Rainfall_mm          49987 non-null  float64\n",
      " 3   Temperature_Celsius  49987 non-null  float64\n",
      " 4   Fertiliser_Quantity  49987 non-null  float64\n",
      " 5   Pesticide_Quantity   49987 non-null  float64\n",
      " 6   Yield_tons_per_acre  49987 non-null  float64\n",
      "dtypes: float64(5), object(2)\n",
      "memory usage: 2.7+ MB\n"
     ]
    }
   ],
   "source": [
    "df.info()"
   ]
  },
  {
   "cell_type": "markdown",
   "id": "9906410b-83ee-4435-8bec-4a8319d5a20b",
   "metadata": {},
   "source": [
    "## Dataset Features\n",
    "\n",
    "- **Soil Type**: Specifies the type of soil.  \n",
    "- **Crop**: Indicates the crop chosen for cultivation.  \n",
    "- **Rainfall (mm)**: Represents the average cultivation period rainfall in millimeters.  \n",
    "- **Temperature (°C)**: Denotes the average cultivation period temperature in degrees Celsius.  \n",
    "- **Fertilizer Quantity (g/acre)**: Specifies the amount of fertilizer used per acre in grams.  \n",
    "- **Pesticide Quantity (g/acre)**: Indicates the amount of pesticides applied per acre in grams.  \n",
    "- **Yield (tons/acre)**: Represents the crop yield in tons per acre.  \n"
   ]
  },
  {
   "cell_type": "code",
   "execution_count": 81,
   "id": "65165178-ecee-456e-9c61-60c7d98add1c",
   "metadata": {},
   "outputs": [
    {
     "data": {
      "text/plain": [
       "Soil_Type\n",
       "Peaty         7796\n",
       "Clay          7604\n",
       "Silty Clay    7494\n",
       "Loam          6443\n",
       "Sandy Loam    6387\n",
       "Chalky        6288\n",
       "Sandy         2755\n",
       "Loamy Sand    2632\n",
       "Silt Loam     1309\n",
       "Clay Loam     1279\n",
       "Name: count, dtype: int64"
      ]
     },
     "execution_count": 81,
     "metadata": {},
     "output_type": "execute_result"
    }
   ],
   "source": [
    "df['Soil_Type'].value_counts()"
   ]
  },
  {
   "cell_type": "code",
   "execution_count": 82,
   "id": "d300b98a-9339-472a-b4b9-7b60319d6be3",
   "metadata": {},
   "outputs": [
    {
     "data": {
      "text/plain": [
       "Crop\n",
       "Wheat      24803\n",
       "Rice        9895\n",
       "Soybean     9711\n",
       "Cotton      5387\n",
       "Maize        191\n",
       "Name: count, dtype: int64"
      ]
     },
     "execution_count": 82,
     "metadata": {},
     "output_type": "execute_result"
    }
   ],
   "source": [
    "df['Crop'].value_counts()"
   ]
  },
  {
   "cell_type": "markdown",
   "id": "a0b389b6-2e43-45f7-b5f1-4b049e2cb138",
   "metadata": {},
   "source": [
    "# Summary Statistics"
   ]
  },
  {
   "cell_type": "code",
   "execution_count": 83,
   "id": "b19d44af-948b-4cb0-8e73-15a7ce3ef143",
   "metadata": {},
   "outputs": [
    {
     "data": {
      "text/html": [
       "<div>\n",
       "<style scoped>\n",
       "    .dataframe tbody tr th:only-of-type {\n",
       "        vertical-align: middle;\n",
       "    }\n",
       "\n",
       "    .dataframe tbody tr th {\n",
       "        vertical-align: top;\n",
       "    }\n",
       "\n",
       "    .dataframe thead th {\n",
       "        text-align: right;\n",
       "    }\n",
       "</style>\n",
       "<table border=\"1\" class=\"dataframe\">\n",
       "  <thead>\n",
       "    <tr style=\"text-align: right;\">\n",
       "      <th></th>\n",
       "      <th>Rainfall_mm</th>\n",
       "      <th>Temperature_Celsius</th>\n",
       "      <th>Fertiliser_Quantity</th>\n",
       "      <th>Pesticide_Quantity</th>\n",
       "      <th>Yield_tons_per_acre</th>\n",
       "    </tr>\n",
       "  </thead>\n",
       "  <tbody>\n",
       "    <tr>\n",
       "      <th>count</th>\n",
       "      <td>49987.000000</td>\n",
       "      <td>49987.000000</td>\n",
       "      <td>49987.000000</td>\n",
       "      <td>49987.000000</td>\n",
       "      <td>49987.000000</td>\n",
       "    </tr>\n",
       "    <tr>\n",
       "      <th>mean</th>\n",
       "      <td>364.859379</td>\n",
       "      <td>25.242925</td>\n",
       "      <td>65828.020979</td>\n",
       "      <td>650.692384</td>\n",
       "      <td>1.826552</td>\n",
       "    </tr>\n",
       "    <tr>\n",
       "      <th>std</th>\n",
       "      <td>198.827821</td>\n",
       "      <td>5.640239</td>\n",
       "      <td>30217.474783</td>\n",
       "      <td>287.138180</td>\n",
       "      <td>0.804548</td>\n",
       "    </tr>\n",
       "    <tr>\n",
       "      <th>min</th>\n",
       "      <td>-360.561468</td>\n",
       "      <td>10.774210</td>\n",
       "      <td>-12005.433799</td>\n",
       "      <td>-145.459577</td>\n",
       "      <td>-0.861296</td>\n",
       "    </tr>\n",
       "    <tr>\n",
       "      <th>25%</th>\n",
       "      <td>232.413685</td>\n",
       "      <td>21.308319</td>\n",
       "      <td>43691.609262</td>\n",
       "      <td>436.109591</td>\n",
       "      <td>1.370807</td>\n",
       "    </tr>\n",
       "    <tr>\n",
       "      <th>50%</th>\n",
       "      <td>374.552369</td>\n",
       "      <td>23.754411</td>\n",
       "      <td>62543.137972</td>\n",
       "      <td>625.700160</td>\n",
       "      <td>1.877866</td>\n",
       "    </tr>\n",
       "    <tr>\n",
       "      <th>75%</th>\n",
       "      <td>504.993241</td>\n",
       "      <td>27.511948</td>\n",
       "      <td>85180.584434</td>\n",
       "      <td>850.394140</td>\n",
       "      <td>2.389453</td>\n",
       "    </tr>\n",
       "    <tr>\n",
       "      <th>max</th>\n",
       "      <td>986.466183</td>\n",
       "      <td>44.307797</td>\n",
       "      <td>171645.909098</td>\n",
       "      <td>1448.667743</td>\n",
       "      <td>4.214538</td>\n",
       "    </tr>\n",
       "  </tbody>\n",
       "</table>\n",
       "</div>"
      ],
      "text/plain": [
       "        Rainfall_mm  Temperature_Celsius  Fertiliser_Quantity  \\\n",
       "count  49987.000000         49987.000000         49987.000000   \n",
       "mean     364.859379            25.242925         65828.020979   \n",
       "std      198.827821             5.640239         30217.474783   \n",
       "min     -360.561468            10.774210        -12005.433799   \n",
       "25%      232.413685            21.308319         43691.609262   \n",
       "50%      374.552369            23.754411         62543.137972   \n",
       "75%      504.993241            27.511948         85180.584434   \n",
       "max      986.466183            44.307797        171645.909098   \n",
       "\n",
       "       Pesticide_Quantity  Yield_tons_per_acre  \n",
       "count        49987.000000         49987.000000  \n",
       "mean           650.692384             1.826552  \n",
       "std            287.138180             0.804548  \n",
       "min           -145.459577            -0.861296  \n",
       "25%            436.109591             1.370807  \n",
       "50%            625.700160             1.877866  \n",
       "75%            850.394140             2.389453  \n",
       "max           1448.667743             4.214538  "
      ]
     },
     "execution_count": 83,
     "metadata": {},
     "output_type": "execute_result"
    }
   ],
   "source": [
    "df.describe()"
   ]
  },
  {
   "cell_type": "markdown",
   "id": "bf96a991-bc89-4664-b561-95be72a09c7c",
   "metadata": {},
   "source": [
    "## Dataset Insights\n",
    "\n",
    "### **Rainfall (mm)**\n",
    "- The average cultivation period rainfall **is** approximately **364 mm**.  \n",
    "- The maximum recorded cultivation period average rainfall is close to **1000 mm**.  \n",
    "- Only **25%** of the regions receive more than **500 mm** of cultivation rainfall.  \n",
    "\n",
    "### **Temperature (°C)**\n",
    "- The average annual temperature **is** around **25 Celsius**.  \n",
    "- The maximum recorded annual average temperature is **44 Celsius**.  \n",
    "- Only **25%** of the regions experience an annual average temperature above **27 Celsius**.  \n",
    "\n",
    "### **Fertilizer Usage (g/acre)**\n",
    "- The average fertilizer usage per acre **is** around **65 kg**.  \n",
    "\n",
    "### **Pesticide Usage (g/acre)**\n",
    "- Only **25%** of the crops require more than **850 g** of pesticides per acre.  \n",
    "\n",
    "### **Yield (tons/acre)**\n",
    "- About **75%** of the crops yield more than **1.37 tons per acre**.  \n"
   ]
  },
  {
   "cell_type": "markdown",
   "id": "c7c824bf-d420-482d-8c82-96b44d3397d1",
   "metadata": {},
   "source": [
    "# Handling Outliers"
   ]
  },
  {
   "cell_type": "markdown",
   "id": "74b900fb-b61d-4be1-b46b-ab7d759d1ef5",
   "metadata": {},
   "source": [
    "## Checking for Outliers"
   ]
  },
  {
   "cell_type": "code",
   "execution_count": 84,
   "id": "f491d8e2-c1d2-4eb3-acde-f99ad63b59a0",
   "metadata": {},
   "outputs": [
    {
     "data": {
      "text/html": [
       "<div>\n",
       "<style scoped>\n",
       "    .dataframe tbody tr th:only-of-type {\n",
       "        vertical-align: middle;\n",
       "    }\n",
       "\n",
       "    .dataframe tbody tr th {\n",
       "        vertical-align: top;\n",
       "    }\n",
       "\n",
       "    .dataframe thead th {\n",
       "        text-align: right;\n",
       "    }\n",
       "</style>\n",
       "<table border=\"1\" class=\"dataframe\">\n",
       "  <thead>\n",
       "    <tr style=\"text-align: right;\">\n",
       "      <th></th>\n",
       "      <th>Soil_Type</th>\n",
       "      <th>Crop</th>\n",
       "      <th>Rainfall_mm</th>\n",
       "      <th>Temperature_Celsius</th>\n",
       "      <th>Fertiliser_Quantity</th>\n",
       "      <th>Pesticide_Quantity</th>\n",
       "      <th>Yield_tons_per_acre</th>\n",
       "    </tr>\n",
       "  </thead>\n",
       "  <tbody>\n",
       "    <tr>\n",
       "      <th>0</th>\n",
       "      <td>Clay</td>\n",
       "      <td>Wheat</td>\n",
       "      <td>225.117079</td>\n",
       "      <td>19.191553</td>\n",
       "      <td>59488.380629</td>\n",
       "      <td>811.673690</td>\n",
       "      <td>1.728929</td>\n",
       "    </tr>\n",
       "    <tr>\n",
       "      <th>1</th>\n",
       "      <td>Sandy Loam</td>\n",
       "      <td>Wheat</td>\n",
       "      <td>315.951046</td>\n",
       "      <td>24.513009</td>\n",
       "      <td>95981.507082</td>\n",
       "      <td>574.246763</td>\n",
       "      <td>2.142011</td>\n",
       "    </tr>\n",
       "    <tr>\n",
       "      <th>2</th>\n",
       "      <td>Sandy Loam</td>\n",
       "      <td>Rice</td>\n",
       "      <td>444.892536</td>\n",
       "      <td>32.136555</td>\n",
       "      <td>89884.767017</td>\n",
       "      <td>657.781659</td>\n",
       "      <td>2.581379</td>\n",
       "    </tr>\n",
       "    <tr>\n",
       "      <th>3</th>\n",
       "      <td>Clay</td>\n",
       "      <td>Wheat</td>\n",
       "      <td>492.812499</td>\n",
       "      <td>19.984464</td>\n",
       "      <td>73514.309720</td>\n",
       "      <td>338.288175</td>\n",
       "      <td>1.515758</td>\n",
       "    </tr>\n",
       "    <tr>\n",
       "      <th>4</th>\n",
       "      <td>Chalky</td>\n",
       "      <td>Rice</td>\n",
       "      <td>426.559034</td>\n",
       "      <td>34.057319</td>\n",
       "      <td>107404.150948</td>\n",
       "      <td>406.520062</td>\n",
       "      <td>2.798321</td>\n",
       "    </tr>\n",
       "  </tbody>\n",
       "</table>\n",
       "</div>"
      ],
      "text/plain": [
       "    Soil_Type   Crop  Rainfall_mm  Temperature_Celsius  Fertiliser_Quantity  \\\n",
       "0        Clay  Wheat   225.117079            19.191553         59488.380629   \n",
       "1  Sandy Loam  Wheat   315.951046            24.513009         95981.507082   \n",
       "2  Sandy Loam   Rice   444.892536            32.136555         89884.767017   \n",
       "3        Clay  Wheat   492.812499            19.984464         73514.309720   \n",
       "4      Chalky   Rice   426.559034            34.057319        107404.150948   \n",
       "\n",
       "   Pesticide_Quantity  Yield_tons_per_acre  \n",
       "0          811.673690             1.728929  \n",
       "1          574.246763             2.142011  \n",
       "2          657.781659             2.581379  \n",
       "3          338.288175             1.515758  \n",
       "4          406.520062             2.798321  "
      ]
     },
     "execution_count": 84,
     "metadata": {},
     "output_type": "execute_result"
    }
   ],
   "source": [
    "df.head()"
   ]
  },
  {
   "cell_type": "code",
   "execution_count": 85,
   "id": "fd94c8c9-d575-48d8-9d9d-b4beccf25e57",
   "metadata": {},
   "outputs": [
    {
     "data": {
      "image/png": "[encoded data removed]",
      "text/plain": [
       "<Figure size 640x480 with 1 Axes>"
      ]
     },
     "metadata": {},
     "output_type": "display_data"
    }
   ],
   "source": [
    "sns.boxplot(x = \"Rainfall_mm\",data = df)\n",
    "plt.title(\"Outlier check in Rainfall_mm column\")\n",
    "plt.show()"
   ]
  },
  {
   "cell_type": "code",
   "execution_count": 86,
   "id": "949a4805-22df-4245-8f28-c58090669b13",
   "metadata": {},
   "outputs": [
    {
     "data": {
      "image/png": "[encoded data removed]",
      "text/plain": [
       "<Figure size 640x480 with 1 Axes>"
      ]
     },
     "metadata": {},
     "output_type": "display_data"
    }
   ],
   "source": [
    "sns.boxplot(x = \"Temperature_Celsius\",data = df)\n",
    "plt.title(\"Outlier check in Temperature_Celsius column\")\n",
    "plt.show()"
   ]
  },
  {
   "cell_type": "code",
   "execution_count": 87,
   "id": "70bde5fd-0148-4c01-9552-53bf889a6a12",
   "metadata": {},
   "outputs": [
    {
     "data": {
      "image/png": "[encoded data removed]",
      "text/plain": [
       "<Figure size 640x480 with 1 Axes>"
      ]
     },
     "metadata": {},
     "output_type": "display_data"
    }
   ],
   "source": [
    "sns.boxplot(x = \"Fertiliser_Quantity\",data = df)\n",
    "plt.title(\"Outlier check in Fertiliser_Quantity column\")\n",
    "plt.show()"
   ]
  },
  {
   "cell_type": "code",
   "execution_count": 88,
   "id": "4482357f-cd89-4160-a9cb-6150819f73b6",
   "metadata": {},
   "outputs": [
    {
     "data": {
      "image/png": "[encoded data removed]",
      "text/plain": [
       "<Figure size 640x480 with 1 Axes>"
      ]
     },
     "metadata": {},
     "output_type": "display_data"
    }
   ],
   "source": [
    "sns.boxplot(x = \"Pesticide_Quantity\",data = df)\n",
    "plt.title(\"Outlier check in Pesticide_Quantity column\")\n",
    "plt.show()"
   ]
  },
  {
   "cell_type": "code",
   "execution_count": 89,
   "id": "72760dad-0502-4429-9ebe-8b193024167b",
   "metadata": {},
   "outputs": [
    {
     "data": {
      "image/png": "[encoded data removed]",
      "text/plain": [
       "<Figure size 640x480 with 1 Axes>"
      ]
     },
     "metadata": {},
     "output_type": "display_data"
    }
   ],
   "source": [
    "sns.boxplot(x = \"Yield_tons_per_acre\",data = df)\n",
    "plt.title(\"Outlier check in Yield_tons_per_acre column\")\n",
    "plt.show()"
   ]
  },
  {
   "cell_type": "markdown",
   "id": "86d5f1fa-4e0f-4690-8506-99b08e578d49",
   "metadata": {},
   "source": [
    "**There are outliers in Rainfall_mm , Temperature , Fertiliser and Yield Column**"
   ]
  },
  {
   "cell_type": "markdown",
   "id": "5652cc64-851b-4d40-896a-31fbe049fbc6",
   "metadata": {},
   "source": [
    "## Handling Outliers"
   ]
  },
  {
   "cell_type": "code",
   "execution_count": 90,
   "id": "6c34d73c-5eee-4667-9ee8-5b261a47d304",
   "metadata": {},
   "outputs": [],
   "source": [
    "#For Rainfall_mm Column\n",
    "Q1 = df['Rainfall_mm'].quantile(0.25)\n",
    "Q3 = df['Rainfall_mm'].quantile(0.75)\n",
    "IQR = Q3 - Q1\n",
    "lower_bound = Q1 - 1.5 * IQR\n",
    "upper_bound = Q3 + 1.5 * IQR\n",
    "df = df[(df['Rainfall_mm'] >= lower_bound) & (df['Rainfall_mm'] <= upper_bound)]"
   ]
  },
  {
   "cell_type": "code",
   "execution_count": 91,
   "id": "1cedf141-d77e-47fc-8ac4-71299ec9216c",
   "metadata": {},
   "outputs": [],
   "source": [
    "#For Temperature_Celsius Column\n",
    "Q1 = df['Temperature_Celsius'].quantile(0.25)\n",
    "Q3 = df['Temperature_Celsius'].quantile(0.75)\n",
    "IQR = Q3 - Q1\n",
    "lower_bound = Q1 - 1.5 * IQR\n",
    "upper_bound = Q3 + 1.5 * IQR\n",
    "df = df[(df['Temperature_Celsius'] >= lower_bound) & (df['Temperature_Celsius'] <= upper_bound)]"
   ]
  },
  {
   "cell_type": "code",
   "execution_count": 92,
   "id": "8a1e8ea1-cc03-41d4-b097-445898dd5ef6",
   "metadata": {},
   "outputs": [],
   "source": [
    "#For Fertiliser_Quantity Column\n",
    "Q1 = df['Fertiliser_Quantity'].quantile(0.25)\n",
    "Q3 = df['Fertiliser_Quantity'].quantile(0.75)\n",
    "IQR = Q3 - Q1\n",
    "lower_bound = Q1 - 1.5 * IQR\n",
    "upper_bound = Q3 + 1.5 * IQR\n",
    "df = df[(df['Fertiliser_Quantity'] >= lower_bound) & (df['Fertiliser_Quantity'] <= upper_bound)]"
   ]
  },
  {
   "cell_type": "code",
   "execution_count": 93,
   "id": "161af2a9-70ae-459f-905d-f4d49b0372c6",
   "metadata": {},
   "outputs": [],
   "source": [
    "#For Yield_tons_per_acre Column\n",
    "Q1 = df['Yield_tons_per_acre'].quantile(0.25)\n",
    "Q3 = df['Yield_tons_per_acre'].quantile(0.75)\n",
    "IQR = Q3 - Q1\n",
    "lower_bound = Q1 - 1.5 * IQR\n",
    "upper_bound = Q3 + 1.5 * IQR\n",
    "df = df[(df['Yield_tons_per_acre'] >= lower_bound) & (df['Yield_tons_per_acre'] <= upper_bound)]"
   ]
  },
  {
   "cell_type": "code",
   "execution_count": 94,
   "id": "3167bf7d-055b-4dfd-b0eb-2f2ab5f7c9ec",
   "metadata": {},
   "outputs": [
    {
     "data": {
      "image/png": "[encoded data removed]",
      "text/plain": [
       "<Figure size 640x480 with 1 Axes>"
      ]
     },
     "metadata": {},
     "output_type": "display_data"
    }
   ],
   "source": [
    "sns.boxplot(x = \"Rainfall_mm\",data = df)\n",
    "plt.title(\"Outlier check in Rainfall_mm column\")\n",
    "plt.show()"
   ]
  },
  {
   "cell_type": "code",
   "execution_count": 95,
   "id": "231edd73-41be-437f-b0a2-12b014e48b52",
   "metadata": {},
   "outputs": [
    {
     "data": {
      "image/png": "[encoded data removed]",
      "text/plain": [
       "<Figure size 640x480 with 1 Axes>"
      ]
     },
     "metadata": {},
     "output_type": "display_data"
    }
   ],
   "source": [
    "sns.boxplot(x = \"Temperature_Celsius\",data = df)\n",
    "plt.title(\"Outlier check in Temperature_Celsius column\")\n",
    "plt.show()"
   ]
  },
  {
   "cell_type": "code",
   "execution_count": 96,
   "id": "3cb1b6bd-1725-460a-a982-d5fbc2b771ce",
   "metadata": {},
   "outputs": [
    {
     "data": {
      "image/png": "[encoded data removed]",
      "text/plain": [
       "<Figure size 640x480 with 1 Axes>"
      ]
     },
     "metadata": {},
     "output_type": "display_data"
    }
   ],
   "source": [
    "sns.boxplot(x = \"Fertiliser_Quantity\",data = df)\n",
    "plt.title(\"Outlier check in Fertiliser_Quantity column\")\n",
    "plt.show()"
   ]
  },
  {
   "cell_type": "code",
   "execution_count": 97,
   "id": "94b8a9a7-4749-465d-b1ea-4d184ae8996d",
   "metadata": {},
   "outputs": [
    {
     "data": {
      "image/png": "[encoded data removed]",
      "text/plain": [
       "<Figure size 640x480 with 1 Axes>"
      ]
     },
     "metadata": {},
     "output_type": "display_data"
    }
   ],
   "source": [
    "sns.boxplot(x = \"Yield_tons_per_acre\",data = df)\n",
    "plt.title(\"Outlier check in Yield_tons_per_acre column\")\n",
    "plt.show()"
   ]
  },
  {
   "cell_type": "code",
   "execution_count": 98,
   "id": "b50b4d5b-4e93-422a-b238-1eb6d14c8ef7",
   "metadata": {},
   "outputs": [
    {
     "data": {
      "text/html": [
       "<div>\n",
       "<style scoped>\n",
       "    .dataframe tbody tr th:only-of-type {\n",
       "        vertical-align: middle;\n",
       "    }\n",
       "\n",
       "    .dataframe tbody tr th {\n",
       "        vertical-align: top;\n",
       "    }\n",
       "\n",
       "    .dataframe thead th {\n",
       "        text-align: right;\n",
       "    }\n",
       "</style>\n",
       "<table border=\"1\" class=\"dataframe\">\n",
       "  <thead>\n",
       "    <tr style=\"text-align: right;\">\n",
       "      <th></th>\n",
       "      <th>Rainfall_mm</th>\n",
       "      <th>Temperature_Celsius</th>\n",
       "      <th>Fertiliser_Quantity</th>\n",
       "      <th>Pesticide_Quantity</th>\n",
       "      <th>Yield_tons_per_acre</th>\n",
       "    </tr>\n",
       "  </thead>\n",
       "  <tbody>\n",
       "    <tr>\n",
       "      <th>count</th>\n",
       "      <td>46633.000000</td>\n",
       "      <td>46633.000000</td>\n",
       "      <td>46633.000000</td>\n",
       "      <td>46633.000000</td>\n",
       "      <td>46633.000000</td>\n",
       "    </tr>\n",
       "    <tr>\n",
       "      <th>mean</th>\n",
       "      <td>358.188382</td>\n",
       "      <td>24.575533</td>\n",
       "      <td>64095.206477</td>\n",
       "      <td>639.280169</td>\n",
       "      <td>1.791301</td>\n",
       "    </tr>\n",
       "    <tr>\n",
       "      <th>std</th>\n",
       "      <td>186.403643</td>\n",
       "      <td>4.911206</td>\n",
       "      <td>27653.126509</td>\n",
       "      <td>272.885842</td>\n",
       "      <td>0.730360</td>\n",
       "    </tr>\n",
       "    <tr>\n",
       "      <th>min</th>\n",
       "      <td>-176.414816</td>\n",
       "      <td>12.177570</td>\n",
       "      <td>-9515.929499</td>\n",
       "      <td>-126.973212</td>\n",
       "      <td>-0.092764</td>\n",
       "    </tr>\n",
       "    <tr>\n",
       "      <th>25%</th>\n",
       "      <td>231.369632</td>\n",
       "      <td>21.190338</td>\n",
       "      <td>43566.687272</td>\n",
       "      <td>434.584348</td>\n",
       "      <td>1.366804</td>\n",
       "    </tr>\n",
       "    <tr>\n",
       "      <th>50%</th>\n",
       "      <td>366.048578</td>\n",
       "      <td>23.506226</td>\n",
       "      <td>61236.253826</td>\n",
       "      <td>613.730449</td>\n",
       "      <td>1.843410</td>\n",
       "    </tr>\n",
       "    <tr>\n",
       "      <th>75%</th>\n",
       "      <td>491.043344</td>\n",
       "      <td>26.619286</td>\n",
       "      <td>82552.635475</td>\n",
       "      <td>824.653246</td>\n",
       "      <td>2.313442</td>\n",
       "    </tr>\n",
       "    <tr>\n",
       "      <th>max</th>\n",
       "      <td>898.315331</td>\n",
       "      <td>36.865440</td>\n",
       "      <td>142300.692969</td>\n",
       "      <td>1448.667743</td>\n",
       "      <td>3.711259</td>\n",
       "    </tr>\n",
       "  </tbody>\n",
       "</table>\n",
       "</div>"
      ],
      "text/plain": [
       "        Rainfall_mm  Temperature_Celsius  Fertiliser_Quantity  \\\n",
       "count  46633.000000         46633.000000         46633.000000   \n",
       "mean     358.188382            24.575533         64095.206477   \n",
       "std      186.403643             4.911206         27653.126509   \n",
       "min     -176.414816            12.177570         -9515.929499   \n",
       "25%      231.369632            21.190338         43566.687272   \n",
       "50%      366.048578            23.506226         61236.253826   \n",
       "75%      491.043344            26.619286         82552.635475   \n",
       "max      898.315331            36.865440        142300.692969   \n",
       "\n",
       "       Pesticide_Quantity  Yield_tons_per_acre  \n",
       "count        46633.000000         46633.000000  \n",
       "mean           639.280169             1.791301  \n",
       "std            272.885842             0.730360  \n",
       "min           -126.973212            -0.092764  \n",
       "25%            434.584348             1.366804  \n",
       "50%            613.730449             1.843410  \n",
       "75%            824.653246             2.313442  \n",
       "max           1448.667743             3.711259  "
      ]
     },
     "execution_count": 98,
     "metadata": {},
     "output_type": "execute_result"
    }
   ],
   "source": [
    "df.describe()"
   ]
  },
  {
   "cell_type": "code",
   "execution_count": 99,
   "id": "e3a7dc2a-6e18-4f81-af18-e47f52d9acb7",
   "metadata": {},
   "outputs": [],
   "source": [
    "df = df[df['Rainfall_mm'] > 50]"
   ]
  },
  {
   "cell_type": "code",
   "execution_count": 101,
   "id": "2abd7122-cdb8-40ac-a10c-d50cd96e3fbb",
   "metadata": {},
   "outputs": [],
   "source": [
    "df = df[df['Fertiliser_Quantity'] > 0]"
   ]
  },
  {
   "cell_type": "code",
   "execution_count": 102,
   "id": "c6973cce-d14e-4c5e-af11-fbd0effcab8e",
   "metadata": {},
   "outputs": [],
   "source": [
    "df = df[df['Pesticide_Quantity'] > 0]"
   ]
  },
  {
   "cell_type": "code",
   "execution_count": 104,
   "id": "e9d1cacd-268a-41ca-af6a-0e15f853c610",
   "metadata": {},
   "outputs": [],
   "source": [
    "df = df[df['Yield_tons_per_acre'] > 0]"
   ]
  },
  {
   "cell_type": "code",
   "execution_count": 105,
   "id": "24c5949c-bf15-463b-b387-6c90bdbad00f",
   "metadata": {},
   "outputs": [],
   "source": [
    "df.to_csv(\"data18.csv\",index=False)"
   ]
  },
  {
   "cell_type": "code",
   "execution_count": null,
   "id": "216c2540-d253-4463-97a3-40f195bbc983",
   "metadata": {},
   "outputs": [],
   "source": []
  },
  {
   "cell_type": "code",
   "execution_count": null,
   "id": "ed523a61-eb7f-44a5-a8e7-be1afa7fa26a",
   "metadata": {},
   "outputs": [],
   "source": []
  },
  {
   "cell_type": "code",
   "execution_count": null,
   "id": "eaf1230e-2aee-47fe-a046-27dae32345af",
   "metadata": {},
   "outputs": [],
   "source": []
  },
  {
   "cell_type": "code",
   "execution_count": null,
   "id": "85461174-e099-4fcb-b99f-327b4637268d",
   "metadata": {},
   "outputs": [],
   "source": []
  },
  {
   "cell_type": "code",
   "execution_count": null,
   "id": "0a127ba4-25c3-4e7d-85da-c7dde33afe2c",
   "metadata": {},
   "outputs": [],
   "source": []
  },
  {
   "cell_type": "code",
   "execution_count": null,
   "id": "3fc09ebe-c07a-438e-9754-9ec98022fc4c",
   "metadata": {},
   "outputs": [],
   "source": []
  },
  {
   "cell_type": "code",
   "execution_count": null,
   "id": "4ddd26a5-04bd-411e-a31a-5b5e1bf9f2ec",
   "metadata": {},
   "outputs": [],
   "source": []
  },
  {
   "cell_type": "code",
   "execution_count": null,
   "id": "1df882fd-2be6-4d65-8b99-2b1cd30a6e29",
   "metadata": {},
   "outputs": [],
   "source": []
  },
  {
   "cell_type": "markdown",
   "id": "ec90a45c-3dc3-4323-a471-80b38026722a",
   "metadata": {},
   "source": []
  },
  {
   "cell_type": "code",
   "execution_count": null,
   "id": "e4dfc9e8-e035-4f48-b222-583feec25e8c",
   "metadata": {},
   "outputs": [],
   "source": []
  },
  {
   "cell_type": "markdown",
   "id": "cda8a418-09b3-4b2b-b05e-7bd07e1fc24b",
   "metadata": {},
   "source": [
    "\n"
   ]
  },
  {
   "cell_type": "code",
   "execution_count": null,
   "id": "564aa99f-694e-4c09-aa1b-bb5ef83b05d6",
   "metadata": {},
   "outputs": [],
   "source": []
  },
  {
   "cell_type": "code",
   "execution_count": null,
   "id": "61019b57-e6f3-4ff7-a3f9-be55817c2844",
   "metadata": {},
   "outputs": [],
   "source": []
  },
  {
   "cell_type": "code",
   "execution_count": null,
   "id": "71f8dba6-e913-469a-8093-75b485c8620d",
   "metadata": {},
   "outputs": [],
   "source": []
  }
 ],
 "metadata": {
  "kernelspec": {
   "display_name": "Python 3 (ipykernel)",
   "language": "python",
   "name": "python3"
  },
  "language_info": {
   "codemirror_mode": {
    "name": "ipython",
    "version": 3
   },
   "file_extension": ".py",
   "mimetype": "text/x-python",
   "name": "python",
   "nbconvert_exporter": "python",
   "pygments_lexer": "ipython3",
   "version": "3.13.2"
  }
 },
 "nbformat": 4,
 "nbformat_minor": 5
}
